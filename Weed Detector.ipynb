{
  "nbformat": 4,
  "nbformat_minor": 0,
  "metadata": {
    "colab": {
      "provenance": [],
      "gpuType": "T4"
    },
    "kernelspec": {
      "name": "python3",
      "display_name": "Python 3"
    },
    "language_info": {
      "name": "python"
    },
    "accelerator": "GPU"
  },
  "cells": [
    {
      "cell_type": "code",
      "execution_count": null,
      "metadata": {
        "id": "em4o2kkOEaJB"
      },
      "outputs": [],
      "source": [
        "from google.colab import drive\n",
        "drive.mount('/content/drive')\n"
      ]
    },
    {
      "cell_type": "code",
      "source": [
        "!git clone https://github.com/ultralytics/yolov5\n",
        "%cd yolov5\n"
      ],
      "metadata": {
        "id": "HFSpLpOVEvyf"
      },
      "execution_count": null,
      "outputs": []
    },
    {
      "cell_type": "code",
      "source": [
        "!pip install -r requirements.txt\n"
      ],
      "metadata": {
        "id": "m-v3rcbCE36i"
      },
      "execution_count": null,
      "outputs": []
    },
    {
      "cell_type": "code",
      "source": [
        "!python train.py --img 640 --batch 16 --epochs 100 --data weed.yaml --weights yolov5s.pt --name weed_detector\n"
      ],
      "metadata": {
        "id": "2fDWVNJVFLcK"
      },
      "execution_count": null,
      "outputs": []
    },
    {
      "cell_type": "code",
      "source": [
        "!ls /content/drive/MyDrive/WeedDetection/datasets/my_custom_weeds/\n",
        "\n"
      ],
      "metadata": {
        "id": "w1CT_M6aHmwe"
      },
      "execution_count": null,
      "outputs": []
    },
    {
      "cell_type": "code",
      "source": [
        "!ls /content/drive/MyDrive\n"
      ],
      "metadata": {
        "id": "iLSXp7nwJAvu"
      },
      "execution_count": null,
      "outputs": []
    },
    {
      "cell_type": "code",
      "source": [
        "!ls /content/drive/MyDrive/WeedDetection\n"
      ],
      "metadata": {
        "id": "q2Din-F2JPJM"
      },
      "execution_count": null,
      "outputs": []
    },
    {
      "cell_type": "code",
      "source": [
        "!ls /content/drive/MyDrive\n"
      ],
      "metadata": {
        "id": "zgle0DcSJWDH"
      },
      "execution_count": null,
      "outputs": []
    },
    {
      "cell_type": "code",
      "source": [
        "!ls /content/drive/MyDrive/\n"
      ],
      "metadata": {
        "id": "p5YzFHsbLZOX"
      },
      "execution_count": null,
      "outputs": []
    },
    {
      "cell_type": "code",
      "source": [
        "!ls /content/drive/MyDrive/WeedDetection\n"
      ],
      "metadata": {
        "id": "prKAOl08JgGW"
      },
      "execution_count": null,
      "outputs": []
    },
    {
      "cell_type": "code",
      "source": [
        "import os\n",
        "\n",
        "folder_path = \"/content/drive/MyDrive\"  # or any subfolder like \"/content/drive/MyDrive/WeedDetection\"\n",
        "for root, dirs, files in os.walk(folder_path):\n",
        "    for file in files:\n",
        "        print(os.path.join(root, file))\n"
      ],
      "metadata": {
        "id": "qXm3JkeJLvdj"
      },
      "execution_count": null,
      "outputs": []
    },
    {
      "cell_type": "code",
      "source": [
        "!python train.py --img 640 --batch 16 --epochs 100 --data /content/drive/MyDrive/WeedDetection/weed.yaml --weights yolov5s.pt\n"
      ],
      "metadata": {
        "id": "0RpGiwS_MANW"
      },
      "execution_count": null,
      "outputs": []
    },
    {
      "cell_type": "code",
      "source": [
        "!cat /content/drive/MyDrive/WeedDetection/weed.yaml\n"
      ],
      "metadata": {
        "id": "YcPblO0xMdpd"
      },
      "execution_count": null,
      "outputs": []
    },
    {
      "cell_type": "code",
      "source": [
        "yaml_path = \"/content/drive/MyDrive/WeedDetection/weed.yaml\"\n",
        "\n",
        "with open(yaml_path, \"w\") as f:\n",
        "    f.write(\"\"\"train: /content/drive/MyDrive/WeedDetection/datasets/my_custom_weeds/images/train\n",
        "val: /content/drive/MyDrive/WeedDetection/datasets/my_custom_weeds/images/val\n",
        "test: /content/drive/MyDrive/WeedDetection/datasets/my_custom_weeds/images/test\n",
        "\n",
        "nc: 4\n",
        "names: ['lantana', 'parthenium', 'siam weed', 'snake weed']\n",
        "\"\"\")\n"
      ],
      "metadata": {
        "id": "gd0FmtPNM7jd"
      },
      "execution_count": null,
      "outputs": []
    },
    {
      "cell_type": "code",
      "source": [
        "!python train.py --img 640 --batch 16 --epochs 100 --data /content/drive/MyDrive/WeedDetection/weed.yaml --weights yolov5s.pt\n"
      ],
      "metadata": {
        "id": "NRGEVoGFNBsh"
      },
      "execution_count": null,
      "outputs": []
    },
    {
      "cell_type": "code",
      "source": [
        "!ls /content/drive/MyDrive/WeedDetection/datasets/my_custom_weeds/images/val\n",
        "\n"
      ],
      "metadata": {
        "id": "FcP2z8hpNT07"
      },
      "execution_count": null,
      "outputs": []
    },
    {
      "cell_type": "code",
      "source": [
        "with open(\"/content/drive/MyDrive/WeedDetection/weed.yaml\", \"w\") as f:\n",
        "    f.write(\"\"\"train: /content/drive/MyDrive/WeedDetection/datasets/my_custom_weeds/images/train\n",
        "val: /content/drive/MyDrive/WeedDetection/datasets/my_custom_weeds/images/train\n",
        "test: /content/drive/MyDrive/WeedDetection/datasets/my_custom_weeds/images/test\n",
        "\n",
        "nc: 4\n",
        "names: ['lantana', 'parthenium', 'siam weed', 'snake weed']\n",
        "\"\"\")\n"
      ],
      "metadata": {
        "id": "MNEsKnhbNh8f"
      },
      "execution_count": null,
      "outputs": []
    },
    {
      "cell_type": "code",
      "source": [
        "!WANDB_DISABLED=true python train.py --img 640 --batch 16 --epochs 100 --data /content/drive/MyDrive/WeedDetection/weed.yaml --weights yolov5s.pt\n"
      ],
      "metadata": {
        "id": "098cKtQANpme"
      },
      "execution_count": null,
      "outputs": []
    },
    {
      "cell_type": "code",
      "source": [
        "!ls /content/drive/MyDrive/WeedDetection/datasets/my_custom_weeds/images/train\n"
      ],
      "metadata": {
        "id": "frCQzmGwN-aT"
      },
      "execution_count": null,
      "outputs": []
    },
    {
      "cell_type": "code",
      "source": [
        "!mkdir -p /content/drive/MyDrive/WeedDetection/datasets/my_custom_weeds/images/train\n"
      ],
      "metadata": {
        "id": "PDVxrcFBOJwz"
      },
      "execution_count": null,
      "outputs": []
    },
    {
      "cell_type": "code",
      "source": [
        "!mv /content/drive/MyDrive/WeedDetection/input/*.jpg /content/drive/MyDrive/WeedDetection/datasets/my_custom_weeds/images/train/\n"
      ],
      "metadata": {
        "id": "rJ_DSw4MOLm_"
      },
      "execution_count": null,
      "outputs": []
    },
    {
      "cell_type": "code",
      "source": [
        "!find /content/drive/MyDrive/WeedDetection/ -name \"*.jpg\"\n"
      ],
      "metadata": {
        "id": "FJWkmx2bOVW8"
      },
      "execution_count": null,
      "outputs": []
    },
    {
      "cell_type": "code",
      "source": [
        "!mkdir -p /content/drive/MyDrive/WeedDetection/datasets/my_custom_weeds/images/val\n",
        "!mv /content/drive/MyDrive/WeedDetection/val/*.jpg /content/drive/MyDrive/WeedDetection/datasets/my_custom_weeds/images/val/\n"
      ],
      "metadata": {
        "id": "PXYbraNKOd5W"
      },
      "execution_count": null,
      "outputs": []
    },
    {
      "cell_type": "code",
      "source": [
        "!mkdir -p /content/drive/MyDrive/WeedDetection/datasets/my_custom_weeds/labels/val\n",
        "!mv /content/drive/MyDrive/WeedDetection/val/labels/*.txt /content/drive/MyDrive/WeedDetection/datasets/my_custom_weeds/labels/val/\n"
      ],
      "metadata": {
        "id": "7DpLs5X-Ovwc"
      },
      "execution_count": null,
      "outputs": []
    },
    {
      "cell_type": "code",
      "source": [
        "!mkdir -p /content/drive/MyDrive/WeedDetection/datasets/my_custom_weeds/labels/train\n",
        "!mv /content/drive/MyDrive/WeedDetection/val/*.txt /content/drive/MyDrive/WeedDetection/datasets/my_custom_weeds/labels/train/\n"
      ],
      "metadata": {
        "id": "J_W_uUqCO4I_"
      },
      "execution_count": null,
      "outputs": []
    },
    {
      "cell_type": "code",
      "source": [
        "!ls /content/drive/MyDrive/WeedDetection/val/*.txt\n"
      ],
      "metadata": {
        "id": "WUS0EEQhO6c8"
      },
      "execution_count": null,
      "outputs": []
    },
    {
      "cell_type": "code",
      "source": [
        "!find /content/drive/MyDrive/WeedDetection/ -name \"*.txt\"\n"
      ],
      "metadata": {
        "id": "EmDQur9CPE_M"
      },
      "execution_count": null,
      "outputs": []
    },
    {
      "cell_type": "code",
      "source": [
        "!mkdir -p /content/drive/MyDrive/WeedDetection/datasets/my_custom_weeds/labels/val\n"
      ],
      "metadata": {
        "id": "EVCI6kZ_PTP2"
      },
      "execution_count": null,
      "outputs": []
    },
    {
      "cell_type": "code",
      "source": [
        "!mv \"/content/drive/MyDrive/WeedDetection/val (1)\"/*.txt /content/drive/MyDrive/WeedDetection/datasets/my_custom_weeds/labels/val/\n"
      ],
      "metadata": {
        "id": "3P7N55pHPVKy"
      },
      "execution_count": null,
      "outputs": []
    },
    {
      "cell_type": "code",
      "source": [
        "!ls /content/drive/MyDrive/WeedDetection/datasets/my_custom_weeds/labels/val | wc -l\n"
      ],
      "metadata": {
        "id": "h8HZtojxPXyg"
      },
      "execution_count": null,
      "outputs": []
    },
    {
      "cell_type": "code",
      "source": [
        "!python train.py --img 640 --batch 16 --epochs 100 --data /content/drive/MyDrive/WeedDetection/weed.yaml --weights yolov5s.pt --project runs/train --name weed-detector\n"
      ],
      "metadata": {
        "id": "ogaezctYPehe"
      },
      "execution_count": null,
      "outputs": []
    },
    {
      "cell_type": "code",
      "source": [],
      "metadata": {
        "id": "pUeOF-KeQVmN"
      },
      "execution_count": null,
      "outputs": []
    },
    {
      "cell_type": "code",
      "source": [
        "!ls /content/drive/MyDrive/WeedDetection/datasets/my_custom_weeds/images/train\n"
      ],
      "metadata": {
        "id": "uZdci8XNPxd9"
      },
      "execution_count": null,
      "outputs": []
    },
    {
      "cell_type": "code",
      "source": [
        "yaml_path = \"/content/drive/MyDrive/WeedDetection/weed.yaml\"\n",
        "\n",
        "corrected_yaml = \"\"\"\\\n",
        "train: /content/drive/MyDrive/WeedDetection/datasets/my_custom_weeds/images/train\n",
        "val: /content/drive/MyDrive/WeedDetection/datasets/my_custom_weeds/images/val\n",
        "test: /content/drive/MyDrive/WeedDetection/datasets/my_custom_weeds/images/test\n",
        "\n",
        "nc: 4\n",
        "names: ['lantana', 'parthenium', 'siam weed', 'snake weed']\n",
        "\"\"\"\n",
        "\n",
        "# Overwrite the file\n",
        "with open(yaml_path, \"w\") as f:\n",
        "    f.write(corrected_yaml)\n",
        "\n",
        "print(\"✅ weed.yaml has been updated.\")\n"
      ],
      "metadata": {
        "id": "6nBKSfIfQN53"
      },
      "execution_count": null,
      "outputs": []
    },
    {
      "cell_type": "code",
      "source": [
        "!ls /content/drive/MyDrive/WeedDetection/datasets/my_custom_weeds/images/train | head\n",
        "!ls /content/drive/MyDrive/WeedDetection/datasets/my_custom_weeds/labels/train | head\n"
      ],
      "metadata": {
        "id": "BD1YzgcfQW3y"
      },
      "execution_count": null,
      "outputs": []
    },
    {
      "cell_type": "code",
      "source": [
        "!WANDB_MODE=disabled python train.py --img 640 --batch 16 --epochs 100 --data /content/drive/MyDrive/WeedDetection/weed.yaml --weights yolov5s.pt --project runs/train --name weed-detector\n"
      ],
      "metadata": {
        "id": "O5hP2MPsQZ40"
      },
      "execution_count": null,
      "outputs": []
    },
    {
      "cell_type": "code",
      "source": [
        "import os\n",
        "from glob import glob\n",
        "\n",
        "train_path = '/content/drive/MyDrive/WeedDetection/datasets/my_custom_weeds/images/train'\n",
        "\n",
        "# List all image files\n",
        "image_files = glob(os.path.join(train_path, '*.jpg')) + glob(os.path.join(train_path, '*.png'))\n",
        "print(f\"✅ Found {len(image_files)} image(s):\")\n",
        "for f in image_files[:10]:\n",
        "    print(\" -\", f)\n",
        "\n",
        "if len(image_files) == 0:\n",
        "    print(\"❌ No images found! Please check the path or file extensions.\")\n"
      ],
      "metadata": {
        "id": "3JdTvFFdQpTo"
      },
      "execution_count": null,
      "outputs": []
    },
    {
      "cell_type": "code",
      "source": [
        "!find /content/drive/MyDrive/WeedDetection/datasets/my_custom_weeds/images/ -type f \\( -iname \"*.jpg\" -o -iname \"*.png\" \\)\n"
      ],
      "metadata": {
        "id": "5vaUFddUQwSx"
      },
      "execution_count": null,
      "outputs": []
    },
    {
      "cell_type": "code",
      "source": [
        "!mkdir -p /content/drive/MyDrive/WeedDetection/datasets/my_custom_weeds/images/train\n",
        "!mv /content/drive/MyDrive/WeedDetection/datasets/my_custom_weeds/images/val/* \\\n",
        "     /content/drive/MyDrive/WeedDetection/datasets/my_custom_weeds/images/train/\n"
      ],
      "metadata": {
        "id": "rVdaKDmDQ7-5"
      },
      "execution_count": null,
      "outputs": []
    },
    {
      "cell_type": "code",
      "source": [
        "from glob import glob\n",
        "len(glob('/content/drive/MyDrive/WeedDetection/datasets/my_custom_weeds/images/train/*.jpg'))\n"
      ],
      "metadata": {
        "id": "k7t41NnPQ_g6"
      },
      "execution_count": null,
      "outputs": []
    },
    {
      "cell_type": "code",
      "source": [
        "from glob import glob\n",
        "len(glob('/content/drive/MyDrive/WeedDetection/datasets/my_custom_weeds/labels/train/*.txt'))\n"
      ],
      "metadata": {
        "id": "ruIQ1vBDRMjA"
      },
      "execution_count": null,
      "outputs": []
    },
    {
      "cell_type": "code",
      "source": [
        "import os\n",
        "import shutil\n",
        "from glob import glob\n",
        "\n",
        "# Paths\n",
        "src_labels_dir = \"/content/drive/MyDrive/WeedDetection/val (1)/\"\n",
        "dst_labels_dir = \"/content/drive/MyDrive/WeedDetection/datasets/my_custom_weeds/labels/train/\"\n",
        "images_dir = \"/content/drive/MyDrive/WeedDetection/datasets/my_custom_weeds/images/train/\"\n",
        "\n",
        "# Make sure destination exists\n",
        "os.makedirs(dst_labels_dir, exist_ok=True)\n",
        "\n",
        "# Get all train image base names (without extension)\n",
        "image_files = glob(os.path.join(images_dir, \"*.jpg\"))\n",
        "image_basenames = [os.path.basename(f).replace(\".jpg\", \".txt\") for f in image_files]\n",
        "\n",
        "# Move only matching label files\n",
        "moved = 0\n",
        "for label_file in image_basenames:\n",
        "    src = os.path.join(src_labels_dir, label_file)\n",
        "    dst = os.path.join(dst_labels_dir, label_file)\n",
        "    if os.path.exists(src):\n",
        "        shutil.copy2(src, dst)\n",
        "        moved += 1\n",
        "\n",
        "print(f\"✅ Copied {moved} label files to train label folder.\")\n"
      ],
      "metadata": {
        "id": "ZwbO_lILRRa9"
      },
      "execution_count": null,
      "outputs": []
    },
    {
      "cell_type": "code",
      "source": [
        "from glob import glob\n",
        "import os\n",
        "\n",
        "# Paths\n",
        "image_dir = \"/content/drive/MyDrive/WeedDetection/datasets/my_custom_weeds/images/train/\"\n",
        "label_dir = \"/content/drive/MyDrive/WeedDetection/val (1)/\"\n",
        "\n",
        "# Get 5 sample image basenames\n",
        "images = sorted(glob(os.path.join(image_dir, \"*.jpg\")))\n",
        "print(\"Sample image filenames:\")\n",
        "for f in images[:5]:\n",
        "    print(os.path.basename(f))\n",
        "\n",
        "# Get 5 sample label basenames\n",
        "labels = sorted(glob(os.path.join(label_dir, \"*.txt\")))\n",
        "print(\"\\nSample label filenames:\")\n",
        "for f in labels[:5]:\n",
        "    print(os.path.basename(f))\n"
      ],
      "metadata": {
        "id": "O_SflCm0Rad0"
      },
      "execution_count": null,
      "outputs": []
    },
    {
      "cell_type": "code",
      "source": [
        "import os\n",
        "import shutil\n",
        "from glob import glob\n",
        "\n",
        "# Paths\n",
        "image_dir = \"/content/drive/MyDrive/WeedDetection/datasets/my_custom_weeds/images/train/\"\n",
        "label_source_dir = \"/content/drive/MyDrive/WeedDetection/val (1)/\"\n",
        "label_target_dir = \"/content/drive/MyDrive/WeedDetection/datasets/my_custom_weeds/labels/train/\"\n",
        "\n",
        "# Create label target directory if it doesn't exist\n",
        "os.makedirs(label_target_dir, exist_ok=True)\n",
        "\n",
        "# Get base names without extensions\n",
        "image_basenames = [os.path.splitext(os.path.basename(f))[0] for f in glob(os.path.join(image_dir, \"*.jpg\"))]\n",
        "\n",
        "# Track matched count\n",
        "matched = 0\n",
        "\n",
        "for base in image_basenames:\n",
        "    label_file = os.path.join(label_source_dir, base + \".txt\")\n",
        "    if os.path.exists(label_file):\n",
        "        shutil.copy(label_file, os.path.join(label_target_dir, base + \".txt\"))\n",
        "        matched += 1\n",
        "\n",
        "print(f\"✅ Copied {matched} label files to train label folder.\")\n"
      ],
      "metadata": {
        "id": "IKHDibtvRjWA"
      },
      "execution_count": null,
      "outputs": []
    },
    {
      "cell_type": "code",
      "source": [
        "from glob import glob\n",
        "import os\n",
        "\n",
        "# List training image base names (without .jpg)\n",
        "train_img_dir = \"/content/drive/MyDrive/WeedDetection/datasets/my_custom_weeds/images/train/\"\n",
        "train_basenames = sorted([os.path.splitext(os.path.basename(f))[0] for f in glob(train_img_dir + \"*.jpg\")])\n",
        "print(\"Sample train image bases:\", train_basenames[:5])\n",
        "\n",
        "# List available label base names\n",
        "label_dir = \"/content/drive/MyDrive/WeedDetection/val (1)/\"\n",
        "label_basenames = sorted([os.path.splitext(os.path.basename(f))[0] for f in glob(label_dir + \"*.txt\")])\n",
        "print(\"Sample label bases:\", label_basenames[:5])\n"
      ],
      "metadata": {
        "id": "STDhLsFkRplO"
      },
      "execution_count": null,
      "outputs": []
    },
    {
      "cell_type": "code",
      "source": [
        "label_dir = \"/content/drive/MyDrive/WeedDetection/val (1)/\"\n",
        "label_files = glob(label_dir + \"*.txt\")\n",
        "\n",
        "# Debug: did it find any .txt files?\n",
        "print(\"Found label files:\", len(label_files))\n",
        "for i in range(5):\n",
        "    print(label_files[i])\n"
      ],
      "metadata": {
        "id": "tBVUj7QNRwDw"
      },
      "execution_count": null,
      "outputs": []
    },
    {
      "cell_type": "code",
      "source": [
        "!ls \"/content/drive/MyDrive/WeedDetection/val (1)\"/*.txt\n",
        "\n"
      ],
      "metadata": {
        "id": "yAKGqGVXR18C"
      },
      "execution_count": null,
      "outputs": []
    },
    {
      "cell_type": "code",
      "source": [
        "!mv \"/content/drive/MyDrive/WeedDetection/val (1)\" \"/content/drive/MyDrive/WeedDetection/val_labels\"\n"
      ],
      "metadata": {
        "id": "baU6lKgAR7Zh"
      },
      "execution_count": null,
      "outputs": []
    },
    {
      "cell_type": "code",
      "source": [
        "from glob import glob\n",
        "\n",
        "label_files = glob(label_dir + \"*.txt\")\n",
        "print(\"Found label files:\", len(label_files))\n",
        "print(\"Sample labels:\", label_files[:3])\n"
      ],
      "metadata": {
        "id": "a24niFdwR9jj"
      },
      "execution_count": null,
      "outputs": []
    },
    {
      "cell_type": "code",
      "source": [
        "!ls \"/content/drive/MyDrive/WeedDetection/val_labels\"\n"
      ],
      "metadata": {
        "id": "sFsa9SQ0SLx3"
      },
      "execution_count": null,
      "outputs": []
    },
    {
      "cell_type": "code",
      "source": [
        "!ls -la \"/content/drive/MyDrive/WeedDetection/\"\n",
        "\n"
      ],
      "metadata": {
        "id": "bBDFOWI3STas"
      },
      "execution_count": null,
      "outputs": []
    },
    {
      "cell_type": "code",
      "source": [
        "!ls /content/drive/MyDrive/WeedDetection/datasets/my_custom_weeds/labels/train | head -n 5\n"
      ],
      "metadata": {
        "id": "bxJa_6LvTBSK"
      },
      "execution_count": null,
      "outputs": []
    },
    {
      "cell_type": "code",
      "source": [
        "!ls /content/drive/MyDrive/WeedDetection/datasets/my_custom_weeds/labels/val | head -n 5\n"
      ],
      "metadata": {
        "id": "InD6jzmqTEI-"
      },
      "execution_count": null,
      "outputs": []
    },
    {
      "cell_type": "code",
      "source": [
        "!python train.py --img 640 --batch 16 --epochs 100 \\\n",
        "--data /content/drive/MyDrive/WeedDetection/weed.yaml \\\n",
        "--weights yolov5s.pt --project runs/train --name weed-detector\n"
      ],
      "metadata": {
        "id": "Ht2LDS6_TH7Y"
      },
      "execution_count": null,
      "outputs": []
    },
    {
      "cell_type": "code",
      "source": [
        "!ls /content/drive/MyDrive/WeedDetection/datasets/my_custom_weeds/labels/train | grep .txt | head -n 10\n"
      ],
      "metadata": {
        "id": "3TqL2Gn6T3-d"
      },
      "execution_count": null,
      "outputs": []
    },
    {
      "cell_type": "code",
      "source": [
        "from glob import glob\n",
        "import os\n",
        "\n",
        "img_dir = \"/content/drive/MyDrive/WeedDetection/datasets/my_custom_weeds/images/train/\"\n",
        "label_dir = \"/content/drive/MyDrive/WeedDetection/datasets/my_custom_weeds/labels/train/\"\n",
        "\n",
        "img_files = sorted([os.path.splitext(os.path.basename(f))[0] for f in glob(img_dir + \"*.jpg\")])\n",
        "label_files = sorted([os.path.splitext(os.path.basename(f))[0] for f in glob(label_dir + \"*.txt\")])\n",
        "\n",
        "missing_labels = [img for img in img_files if img not in label_files]\n",
        "\n",
        "print(f\"🟡 Images in train: {len(img_files)}\")\n",
        "print(f\"🔴 Labels matched: {len(label_files)}\")\n",
        "print(f\"❌ Images with no matching labels: {len(missing_labels)}\")\n",
        "print(\"Sample:\", missing_labels[:5])\n"
      ],
      "metadata": {
        "id": "t-Y6gANZUEcj"
      },
      "execution_count": null,
      "outputs": []
    },
    {
      "cell_type": "code",
      "source": [
        "import os\n",
        "import shutil\n",
        "from glob import glob\n",
        "\n",
        "# Directories\n",
        "train_img_dir = \"/content/drive/MyDrive/WeedDetection/datasets/my_custom_weeds/images/train/\"\n",
        "label_target_dir = \"/content/drive/MyDrive/WeedDetection/datasets/my_custom_weeds/labels/train/\"\n",
        "\n",
        "# Other possible places where labels might exist\n",
        "search_dirs = [\n",
        "    \"/content/drive/MyDrive/WeedDetection/val (1)/\",\n",
        "    \"/content/drive/MyDrive/WeedDetection/datasets/my_custom_weeds/labels/val/\",\n",
        "    \"/content/drive/MyDrive/WeedDetection/datasets/my_custom_weeds/labels/test/\",\n",
        "]\n",
        "\n",
        "# Get base names of training images\n",
        "image_basenames = [os.path.splitext(os.path.basename(f))[0] for f in glob(train_img_dir + \"*.jpg\")]\n",
        "print(f\"📷 Found {len(image_basenames)} training images.\")\n",
        "\n",
        "# Search for matching label files in each directory\n",
        "copied = 0\n",
        "for search_dir in search_dirs:\n",
        "    label_files = glob(search_dir + \"*.txt\")\n",
        "    for label_path in label_files:\n",
        "        label_name = os.path.splitext(os.path.basename(label_path))[0]\n",
        "        if label_name in image_basenames:\n",
        "            shutil.copy(label_path, os.path.join(label_target_dir, os.path.basename(label_path)))\n",
        "            copied += 1\n",
        "\n",
        "print(f\"✅ Copied {copied} matching label files to labels/train/\")\n"
      ],
      "metadata": {
        "id": "IdS9NJgkUPzX"
      },
      "execution_count": null,
      "outputs": []
    },
    {
      "cell_type": "code",
      "source": [
        "!ls /content/drive/MyDrive/WeedDetection/datasets/my_custom_weeds/labels/train | wc -l\n"
      ],
      "metadata": {
        "id": "0Sh9dN6xUTZ0"
      },
      "execution_count": null,
      "outputs": []
    },
    {
      "cell_type": "code",
      "source": [
        "!python train.py --img 640 --batch 16 --epochs 100 \\\n",
        "--data /content/drive/MyDrive/WeedDetection/weed.yaml \\\n",
        "--weights yolov5s.pt --project runs/train --name weed-detector\n"
      ],
      "metadata": {
        "id": "nrInY2HsUd_J"
      },
      "execution_count": null,
      "outputs": []
    },
    {
      "cell_type": "code",
      "source": [
        "import os\n",
        "from glob import glob\n",
        "\n",
        "val_dir = \"/content/drive/MyDrive/WeedDetection/datasets/my_custom_weeds/images/val\"\n",
        "images = glob(val_dir + \"/*.jpg\") + glob(val_dir + \"/*.png\")\n",
        "print(f\"Found {len(images)} val images\")\n",
        "print(\"Sample:\", images[:3])\n"
      ],
      "metadata": {
        "id": "VbMUDMssVANo"
      },
      "execution_count": null,
      "outputs": []
    },
    {
      "cell_type": "code",
      "source": [
        "!ls -l \"/content/drive/MyDrive/WeedDetection/datasets/my_custom_weeds/images/val\"\n",
        "\n"
      ],
      "metadata": {
        "id": "ynoHFsL0VLzf"
      },
      "execution_count": null,
      "outputs": []
    },
    {
      "cell_type": "code",
      "source": [
        "import shutil\n",
        "import os\n",
        "\n",
        "src_dir = \"/content/drive/MyDrive/WeedDetection/datasets/my_custom_weeds/images/val\"\n",
        "for root, dirs, files in os.walk(src_dir):\n",
        "    for file in files:\n",
        "        if file.endswith((\".jpg\", \".jpeg\", \".png\")):\n",
        "            src = os.path.join(root, file)\n",
        "            dst = os.path.join(src_dir, file)\n",
        "            if src != dst:\n",
        "                shutil.move(src, dst)\n",
        "\n",
        "print(\"✅ Moved nested images to val/ folder.\")\n"
      ],
      "metadata": {
        "id": "7z7a3IqKVT5c"
      },
      "execution_count": null,
      "outputs": []
    },
    {
      "cell_type": "code",
      "source": [
        "!python train.py --img 640 --batch 16 --epochs 100 \\\n",
        "--data /content/drive/MyDrive/WeedDetection/weed.yaml \\\n",
        "--weights yolov5s.pt --project runs/train --name weed-detector\n"
      ],
      "metadata": {
        "id": "CLzlkpJjVYxr"
      },
      "execution_count": null,
      "outputs": []
    },
    {
      "cell_type": "code",
      "source": [
        "%cd /content/yolov5\n"
      ],
      "metadata": {
        "id": "JplbqCrb8HmZ"
      },
      "execution_count": null,
      "outputs": []
    },
    {
      "cell_type": "code",
      "source": [
        "!git clone https://github.com/ultralytics/yolov5.git\n"
      ],
      "metadata": {
        "id": "ZggH3AQV9k0e"
      },
      "execution_count": null,
      "outputs": []
    },
    {
      "cell_type": "code",
      "source": [
        "%cd yolov5\n"
      ],
      "metadata": {
        "id": "ygAffUbo9oiu"
      },
      "execution_count": null,
      "outputs": []
    },
    {
      "cell_type": "code",
      "source": [
        "!pip install -r requirements.txt\n"
      ],
      "metadata": {
        "id": "8oCJdwvJ9qvp"
      },
      "execution_count": null,
      "outputs": []
    },
    {
      "cell_type": "code",
      "source": [
        "!python train.py --img 640 --batch 16 --epochs 100 \\\n",
        "--data /content/drive/MyDrive/WeedDetection/weed.yaml \\\n",
        "--weights yolov5s.pt --project runs/train --name weed-detector\n"
      ],
      "metadata": {
        "id": "cnYTe7cs9teG"
      },
      "execution_count": null,
      "outputs": []
    },
    {
      "cell_type": "code",
      "source": [
        "from google.colab import drive\n",
        "drive.mount('/content/drive', force_remount=True)\n"
      ],
      "metadata": {
        "id": "C424QMUWAqNk"
      },
      "execution_count": null,
      "outputs": []
    },
    {
      "cell_type": "code",
      "source": [
        "!ls -l /content/drive/MyDrive/WeedDetection/weed.yaml\n"
      ],
      "metadata": {
        "id": "aOUAtU1gA5LW"
      },
      "execution_count": null,
      "outputs": []
    },
    {
      "cell_type": "code",
      "source": [
        "%cd /content/yolov5\n",
        "\n",
        "!python train.py --img 640 --batch 16 --epochs 100 \\\n",
        "--data /content/drive/MyDrive/WeedDetection/weed.yaml \\\n",
        "--weights yolov5s.pt --project runs/train --name weed-detector\n"
      ],
      "metadata": {
        "id": "sqDgu1HzBCw1"
      },
      "execution_count": null,
      "outputs": []
    },
    {
      "cell_type": "code",
      "source": [
        "!python train.py --img 640 --batch 16 --epochs 100 \\\n",
        "--data /content/drive/MyDrive/WeedDetection/weed.yaml \\\n",
        "--weights yolov5s.pt --project runs/train --name weed-detector\n"
      ],
      "metadata": {
        "id": "w9I7Yr3YCHDZ"
      },
      "execution_count": null,
      "outputs": []
    },
    {
      "cell_type": "code",
      "source": [
        "from google.colab import drive\n",
        "drive.mount('/content/drive')\n"
      ],
      "metadata": {
        "id": "LqzBAUtfSGrp"
      },
      "execution_count": null,
      "outputs": []
    },
    {
      "cell_type": "code",
      "source": [
        "!python train.py --img 640 --batch 16 --epochs 100 \\\n",
        "--data /content/drive/MyDrive/WeedDetection/weed.yaml \\\n",
        "--weights yolov5s.pt --project runs/train --name weed-detector\n"
      ],
      "metadata": {
        "id": "2jbkUYnvSPkX"
      },
      "execution_count": null,
      "outputs": []
    },
    {
      "cell_type": "code",
      "source": [
        "%cd /content\n",
        "!git clone https://github.com/ultralytics/yolov5\n",
        "%cd yolov5\n",
        "!pip install -r requirements.txt\n"
      ],
      "metadata": {
        "id": "1xusoInpSTl4"
      },
      "execution_count": null,
      "outputs": []
    },
    {
      "cell_type": "code",
      "source": [
        "!python train.py --img 640 --batch 16 --epochs 100 \\\n",
        "--data /content/drive/MyDrive/WeedDetection/weed.yaml \\\n",
        "--weights yolov5s.pt --project runs/train --name weed-detector\n"
      ],
      "metadata": {
        "id": "WmAGa16hS904"
      },
      "execution_count": null,
      "outputs": []
    },
    {
      "cell_type": "code",
      "source": [
        "from google.colab import files\n",
        "uploaded = files.upload()\n"
      ],
      "metadata": {
        "id": "UcAPCxmVXm58"
      },
      "execution_count": null,
      "outputs": []
    },
    {
      "cell_type": "code",
      "source": [
        "%cd /content/yolov5\n"
      ],
      "metadata": {
        "id": "Z_4I3JpsXzuR"
      },
      "execution_count": null,
      "outputs": []
    },
    {
      "cell_type": "code",
      "source": [
        "!python detect.py \\\n",
        "--weights runs/train/weed-detector/weights/best.pt \\\n",
        "--img 640 \\\n",
        "--conf 0.25 \\\n",
        "--source Lantana_20170126-100004-0_jpg.rf.e66348c15f5cfa8cd1a1e804b7ab9edc.jpg\n"
      ],
      "metadata": {
        "id": "O8JLvvtxX-qz"
      },
      "execution_count": null,
      "outputs": []
    },
    {
      "cell_type": "code",
      "source": [
        "!python detect.py \\\n",
        "--weights runs/train/weed-detector/weights/best.pt \\\n",
        "--img 640 \\\n",
        "--conf 0.25 \\\n",
        "--source Lantana_20170126-100004-0_jpg.rf.e66348c15f5cfa8cd1a1e804b7ab9edc.jpg"
      ],
      "metadata": {
        "id": "fWYg_CKUntqR"
      },
      "execution_count": null,
      "outputs": []
    },
    {
      "cell_type": "code",
      "source": [
        "from IPython.display import Image, display\n",
        "display(Image(filename='runs/detect/exp/Lantana_20170126-100004-0_jpg.rf.e66348c15f5cfa8cd1a1e804b7ab9edc.jpg'))\n"
      ],
      "metadata": {
        "id": "70FVsfjwYUsV"
      },
      "execution_count": null,
      "outputs": []
    },
    {
      "cell_type": "code",
      "source": [
        "import os\n",
        "\n",
        "os.makedirs('input', exist_ok=True)\n",
        "os.makedirs('results', exist_ok=True)\n"
      ],
      "metadata": {
        "id": "jPpNMmotYo0V"
      },
      "execution_count": null,
      "outputs": []
    },
    {
      "cell_type": "code",
      "source": [
        "import os, shutil\n",
        "\n",
        "# Setup input folder\n",
        "os.makedirs('input', exist_ok=True)\n",
        "\n",
        "# Path to uploaded image\n",
        "uploaded_img_path = '/content/Lantana_20170126-100004-0_jpg.rf.e66348c15f5cfa8cd1a1e804b7ab9edc.jpg'\n",
        "\n",
        "# Save a copy to input/\n",
        "shutil.copy(uploaded_img_path, f'input/{os.path.basename(uploaded_img_path)}')\n"
      ],
      "metadata": {
        "id": "HlVXyEeGY_bk"
      },
      "execution_count": null,
      "outputs": []
    },
    {
      "cell_type": "code",
      "source": [
        "!python detect.py \\\n",
        "--weights /content/yolov5/runs/train/weed-detector/weights/best.pt \\\n",
        "--source /content/drive/MyDrive/WeedDetection/test \\\n",
        "--project /content/drive/MyDrive/WeedDetection/results \\\n",
        "--name test_results \\\n",
        "--save-txt --save-conf --exist-ok\n"
      ],
      "metadata": {
        "id": "8XwNC06EZe20"
      },
      "execution_count": null,
      "outputs": []
    },
    {
      "cell_type": "code",
      "source": [
        "import glob\n",
        "from IPython.display import Image, display\n",
        "\n",
        "# Path to YOLOv5 detection results\n",
        "result_path = '/content/drive/MyDrive/WeedDetection/results/test_results/*.jpg'\n",
        "\n",
        "# Get all image paths\n",
        "result_images = glob.glob(result_path)\n",
        "\n",
        "# Show all detected images\n",
        "for img_path in result_images:\n",
        "    display(Image(filename=img_path))\n"
      ],
      "metadata": {
        "id": "fvzHTAOtZ6IH"
      },
      "execution_count": null,
      "outputs": []
    },
    {
      "cell_type": "code",
      "source": [
        "import glob\n",
        "from IPython.display import Image, display\n",
        "\n",
        "# Path to YOLOv5 detection results\n",
        "result_path = '/content/drive/MyDrive/WeedDetection/results/test_results/*.jpg'\n",
        "\n",
        "# Get all image paths\n",
        "result_images = glob.glob(result_path)\n",
        "\n",
        "# Show all detected images\n",
        "for img_path in result_images:\n",
        "    display(Image(filename=img_path))\n"
      ],
      "metadata": {
        "id": "gH0Pswkqav3D"
      },
      "execution_count": null,
      "outputs": []
    },
    {
      "cell_type": "code",
      "source": [
        "import glob\n",
        "from IPython.display import Image, display\n",
        "\n",
        "# Path to YOLOv5 detection results\n",
        "result_path = '/content/drive/MyDrive/WeedDetection/results/test_results/*.jpg'\n",
        "\n",
        "# Get all image paths\n",
        "result_images = glob.glob(result_path)\n",
        "\n",
        "# Show all detected images\n",
        "for img_path in result_images:\n",
        "    display(Image(filename=img_path))"
      ],
      "metadata": {
        "id": "uqEDGnnYdKv2"
      },
      "execution_count": null,
      "outputs": []
    },
    {
      "cell_type": "code",
      "source": [
        "%cd /content/yolov5\n"
      ],
      "metadata": {
        "id": "ojg71zHle_So"
      },
      "execution_count": null,
      "outputs": []
    },
    {
      "cell_type": "code",
      "source": [
        "!python export.py --weights runs/train/weed-detector/weights/best.pt --include onnx torchscript coreml\n"
      ],
      "metadata": {
        "id": "-c3C1ZT4hVrE"
      },
      "execution_count": null,
      "outputs": []
    },
    {
      "cell_type": "code",
      "source": [
        "!cp runs/train/weed-detector/weights/* /content/drive/MyDrive/WeedDetection/exported_models/\n"
      ],
      "metadata": {
        "id": "DkQO2--Th0i_"
      },
      "execution_count": null,
      "outputs": []
    },
    {
      "cell_type": "code",
      "source": [
        "# 1. Make the folder (only once)\n",
        "!mkdir -p /content/drive/MyDrive/WeedDetection/exported_models/\n",
        "\n",
        "# 2. Copy all exported model files\n",
        "!cp /content/yolov5/runs/train/weed-detector/weights/* /content/drive/MyDrive/WeedDetection/exported_models/\n"
      ],
      "metadata": {
        "id": "OJkjY0_6h8ul"
      },
      "execution_count": null,
      "outputs": []
    },
    {
      "cell_type": "code",
      "source": [
        "!cp -r /content/yolov5/runs/train/weed-detector/weights /content/drive/MyDrive/WeedDetection/exported_models/\n"
      ],
      "metadata": {
        "id": "F5hIil2IiHM1"
      },
      "execution_count": null,
      "outputs": []
    },
    {
      "cell_type": "code",
      "source": [
        "import torch\n",
        "from pathlib import Path\n",
        "model = torch.load('runs/train/weed-detector/weights/best.pt', map_location='cpu')\n",
        "model['model'].yaml_file = str(Path(model['model'].yaml_file))  # ensure string path\n",
        "torch.save(model, 'runs/train/weed-detector/weights/best_windows.pt')\n"
      ],
      "metadata": {
        "id": "-EdJ7mZEqGe6"
      },
      "execution_count": null,
      "outputs": []
    },
    {
      "cell_type": "code",
      "source": [
        "import torch\n",
        "from pathlib import Path\n",
        "from models.yolo import DetectionModel  # allow YOLO's class to be unpickled\n",
        "from torch.serialization import add_safe_globals\n",
        "\n",
        "# ✅ Allow DetectionModel to be unpickled\n",
        "add_safe_globals([DetectionModel])\n",
        "\n",
        "# 🔁 Now load it\n",
        "model = torch.load('runs/train/weed-detector/weights/best.pt', map_location='cpu', weights_only=False)\n",
        "\n",
        "# ✅ Fix pathlib issue\n",
        "model['model'].yaml_file = str(Path(model['model'].yaml_file))\n",
        "\n",
        "# 🔁 Save portable version\n",
        "torch.save(model, 'runs/train/weed-detector/weights/best_windows.pt')\n"
      ],
      "metadata": {
        "id": "uKPENVmbqWta"
      },
      "execution_count": null,
      "outputs": []
    },
    {
      "cell_type": "code",
      "source": [
        "import torch\n",
        "from models.yolo import DetectionModel\n",
        "from torch.serialization import add_safe_globals\n",
        "\n",
        "# Allow YOLOv5 custom class for loading\n",
        "add_safe_globals([DetectionModel])\n",
        "\n",
        "# Load with full checkpoint allowed\n",
        "model = torch.load('runs/train/weed-detector/weights/best.pt', map_location='cpu', weights_only=False)\n",
        "\n",
        "# Re-save it safely for Windows\n",
        "torch.save(model, 'runs/train/weed-detector/weights/best_windows.pt')\n"
      ],
      "metadata": {
        "id": "86RovMouqg-E"
      },
      "execution_count": null,
      "outputs": []
    },
    {
      "cell_type": "code",
      "source": [
        "from google.colab import files\n",
        "files.download('runs/train/weed-detector/weights/best_windows.pt')\n"
      ],
      "metadata": {
        "id": "l6Snhryeq-Mm"
      },
      "execution_count": null,
      "outputs": []
    },
    {
      "cell_type": "code",
      "source": [
        "python detect.py --weights ../../WeedDetection/best.pt --source ../../WeedDetection/datasets/my_custom_weeds/images/test --device cpu\n"
      ],
      "metadata": {
        "id": "5hzpcIFAoCQG"
      },
      "execution_count": null,
      "outputs": []
    },
    {
      "cell_type": "code",
      "source": [
        "import glob\n",
        "from IPython.display import Image, display\n",
        "\n",
        "# Path to YOLOv5 detection results\n",
        "result_path = '/content/drive/MyDrive/WeedDetection/results/test_results/*.jpg'\n",
        "\n",
        "# Get all image paths\n",
        "result_images = glob.glob(result_path)\n",
        "\n",
        "# Show all detected images\n",
        "for img_path in result_images:\n",
        "    display(Image(filename=img_path))"
      ],
      "metadata": {
        "id": "WvtAfQ7up8iu"
      },
      "execution_count": null,
      "outputs": []
    },
    {
      "cell_type": "code",
      "source": [
        "from google.colab import drive\n",
        "drive.mount('/content/drive')\n"
      ],
      "metadata": {
        "id": "008JLcDcqOeB"
      },
      "execution_count": null,
      "outputs": []
    },
    {
      "cell_type": "code",
      "source": [
        "!python detect.py \\\n",
        "--weights /content/yolov5/runs/train/weed-detector/weights/best.pt \\\n",
        "--source /content/drive/MyDrive/WeedDetection/test \\\n",
        "--project /content/drive/MyDrive/WeedDetection/results \\\n",
        "--name test_results \\\n",
        "--save-txt --save-conf --exist-ok\n"
      ],
      "metadata": {
        "id": "AatoBmQKrPbA"
      },
      "execution_count": null,
      "outputs": []
    },
    {
      "cell_type": "code",
      "source": [
        "!git clone https://github.com/ultralytics/yolov5.git\n",
        "%cd yolov5\n",
        "!pip install -r requirements.txt\n"
      ],
      "metadata": {
        "id": "liYUlja5rrsk"
      },
      "execution_count": null,
      "outputs": []
    },
    {
      "cell_type": "code",
      "source": [
        "!git clone https://github.com/ultralytics/yolov5.git\n",
        "%cd yolov5\n",
        "!pip install -r requirements.txt"
      ],
      "metadata": {
        "id": "Z2OO82hTtWHd"
      },
      "execution_count": null,
      "outputs": []
    },
    {
      "cell_type": "code",
      "source": [
        "!git clone https://github.com/ultralytics/yolov5.git\n",
        "%cd yolov5\n",
        "!pip install -r requirements.txt\n"
      ],
      "metadata": {
        "id": "h9KgPBhqr9_o"
      },
      "execution_count": null,
      "outputs": []
    },
    {
      "cell_type": "code",
      "source": [
        "!python detect.py \\\n",
        "--weights /content/drive/MyDrive/WeedDetection/best.pt \\\n",
        "--source /content/drive/MyDrive/WeedDetection/datasets/my_custom_weeds/images/test \\\n",
        "--project /content/drive/MyDrive/WeedDetection/results \\\n",
        "--name test_results \\\n",
        "--save-txt --save-conf --exist-ok\n"
      ],
      "metadata": {
        "id": "7XeiVTcKsYeD"
      },
      "execution_count": null,
      "outputs": []
    },
    {
      "cell_type": "code",
      "source": [
        "!python detect.py \\\n",
        "--weights /content/drive/MyDrive/WeedDetection/best.pt \\\n",
        "--source /content/drive/MyDrive/WeedDetection/datasets/my_custom_weeds/images/test \\\n",
        "--project /content/drive/MyDrive/WeedDetection/results \\\n",
        "--name test_results \\\n",
        "--save-txt --save-conf --exist-ok\n"
      ],
      "metadata": {
        "id": "p3zggqYTthgR"
      },
      "execution_count": null,
      "outputs": []
    },
    {
      "cell_type": "code",
      "source": [
        "from google.colab import drive\n",
        "drive.mount('/content/drive', force_remount=True)\n"
      ],
      "metadata": {
        "id": "B1LDEFGotsZz"
      },
      "execution_count": null,
      "outputs": []
    },
    {
      "cell_type": "code",
      "source": [
        "!python detect.py \\\n",
        "--weights /content/drive/MyDrive/WeedDetection/best.pt \\\n",
        "--source /content/drive/MyDrive/WeedDetection/datasets/my_custom_weeds/images/test \\\n",
        "--project /content/drive/MyDrive/WeedDetection/results \\\n",
        "--name test_results \\\n",
        "--save-txt --save-conf --exist-ok\n"
      ],
      "metadata": {
        "id": "cHJG9BAquEA2"
      },
      "execution_count": null,
      "outputs": []
    },
    {
      "cell_type": "code",
      "source": [
        "from google.colab import drive\n",
        "drive.mount('/content/drive', force_remount=True)\n"
      ],
      "metadata": {
        "id": "G73b875ZvRKG"
      },
      "execution_count": null,
      "outputs": []
    },
    {
      "cell_type": "code",
      "source": [
        "!rm -rf /content/drive  # force remove the existing directory\n",
        "from google.colab import drive\n",
        "drive.mount('/content/drive')\n"
      ],
      "metadata": {
        "id": "CImmbTB3vdF3"
      },
      "execution_count": null,
      "outputs": []
    },
    {
      "cell_type": "code",
      "source": [
        "!rm -rf /content/drive  # force remove the existing directory\n",
        "from google.colab import drive\n",
        "drive.mount('/content/drive')\n"
      ],
      "metadata": {
        "id": "RutC_aphpYh8"
      },
      "execution_count": null,
      "outputs": []
    },
    {
      "cell_type": "code",
      "source": [
        "!python detect.py \\\n",
        "--weights /content/drive/MyDrive/WeedDetection/best.pt \\\n",
        "--source /content/drive/MyDrive/WeedDetection/datasets/my_custom_weeds/images/test \\\n",
        "--project /content/drive/MyDrive/WeedDetection/results \\\n",
        "--name test_results \\\n",
        "--save-txt --save-conf --exist-ok\n"
      ],
      "metadata": {
        "id": "oQs7M5djvkMj"
      },
      "execution_count": null,
      "outputs": []
    },
    {
      "cell_type": "code",
      "source": [
        "import glob\n",
        "from IPython.display import Image, display\n",
        "\n",
        "# Path to YOLOv5 detection results\n",
        "result_path = '/content/drive/MyDrive/WeedDetection/results/test_results/*.jpg'\n",
        "\n",
        "# Get all image paths\n",
        "result_images = glob.glob(result_path)\n",
        "\n",
        "# Show all detected images\n",
        "for img_path in result_images:\n",
        "    display(Image(filename=img_path))"
      ],
      "metadata": {
        "id": "ZsRx41mtws3p"
      },
      "execution_count": null,
      "outputs": []
    },
    {
      "cell_type": "code",
      "source": [
        "!python detect.py \\\n",
        "--weights /content/drive/MyDrive/WeedDetection/best.pt \\\n",
        "--source /content/drive/MyDrive/WeedDetection/datasets/my_custom_weeds/images/test \\\n",
        "--project /content/drive/MyDrive/WeedDetection/results \\\n",
        "--name test_results \\\n",
        "--save-txt --save-conf --exist-ok"
      ],
      "metadata": {
        "id": "FqBogUdYtFhs"
      },
      "execution_count": null,
      "outputs": []
    },
    {
      "cell_type": "code",
      "source": [
        "from google.colab import drive\n",
        "drive.mount('/content/drive', force_remount=True)"
      ],
      "metadata": {
        "id": "qJ7Koe6etirO"
      },
      "execution_count": null,
      "outputs": []
    },
    {
      "cell_type": "code",
      "source": [
        "!python detect.py \\\n",
        "--weights /content/drive/MyDrive/WeedDetection/best.pt \\\n",
        "--source /content/drive/MyDrive/WeedDetection/datasets/my_custom_weeds/images/test \\\n",
        "--project /content/drive/MyDrive/WeedDetection/results \\\n",
        "--name test_results \\\n",
        "--save-txt --save-conf --exist-ok"
      ],
      "metadata": {
        "id": "GhgX3i0-t8MM"
      },
      "execution_count": null,
      "outputs": []
    },
    {
      "cell_type": "code",
      "source": [
        "import glob\n",
        "from IPython.display import Image, display\n",
        "\n",
        "# Path to YOLOv5 detection results\n",
        "result_path = '/content/drive/MyDrive/WeedDetection/results/test_results/*.jpg'\n",
        "\n",
        "# Get all image paths\n",
        "result_images = glob.glob(result_path)\n",
        "\n",
        "# Show all detected images\n",
        "for img_path in result_images:\n",
        "    display(Image(filename=img_path))"
      ],
      "metadata": {
        "id": "4UdgG9Xnugnn"
      },
      "execution_count": null,
      "outputs": []
    },
    {
      "cell_type": "code",
      "source": [
        "import os\n",
        "import shutil\n",
        "from glob import glob\n",
        "\n",
        "# Directories\n",
        "train_img_dir = \"/content/drive/MyDrive/WeedDetection/datasets/my_custom_weeds/images/train/\"\n",
        "label_target_dir = \"/content/drive/MyDrive/WeedDetection/datasets/my_custom_weeds/labels/train/\"\n",
        "\n",
        "# Other possible places where labels might exist\n",
        "search_dirs = [\n",
        "    \"/content/drive/MyDrive/WeedDetection/val (1)/\",\n",
        "    \"/content/drive/MyDrive/WeedDetection/datasets/my_custom_weeds/labels/val/\",\n",
        "    \"/content/drive/MyDrive/WeedDetection/datasets/my_custom_weeds/labels/test/\",\n",
        "]\n",
        "\n",
        "# Get base names of training images\n",
        "image_basenames = [os.path.splitext(os.path.basename(f))[0] for f in glob(train_img_dir + \"*.jpg\")]\n",
        "print(f\"📷 Found {len(image_basenames)} training images.\")\n",
        "\n",
        "# Search for matching label files in each directory\n",
        "copied = 0\n",
        "for search_dir in search_dirs:\n",
        "    label_files = glob(search_dir + \"*.txt\")\n",
        "    for label_path in label_files:\n",
        "        label_name = os.path.splitext(os.path.basename(label_path))[0]\n",
        "        if label_name in image_basenames:\n",
        "            shutil.copy(label_path, os.path.join(label_target_dir, os.path.basename(label_path)))\n",
        "            copied += 1\n",
        "\n",
        "print(f\"✅ Copied {copied} matching label files to labels/train/\")"
      ],
      "metadata": {
        "id": "A4lnRo0YagYC"
      },
      "execution_count": null,
      "outputs": []
    },
    {
      "cell_type": "code",
      "source": [
        "!rm -rf /content/drive  # force remove the existing directory\n",
        "from google.colab import drive\n",
        "drive.mount('/content/drive')\n"
      ],
      "metadata": {
        "id": "XR9LhikUa-Sz"
      },
      "execution_count": null,
      "outputs": []
    },
    {
      "cell_type": "code",
      "source": [
        "import os\n",
        "import shutil\n",
        "from glob import glob\n",
        "\n",
        "# Directories\n",
        "train_img_dir = \"/content/drive/MyDrive/WeedDetection/datasets/my_custom_weeds/images/train/\"\n",
        "label_target_dir = \"/content/drive/MyDrive/WeedDetection/datasets/my_custom_weeds/labels/train/\"\n",
        "\n",
        "# Other possible places where labels might exist\n",
        "search_dirs = [\n",
        "    \"/content/drive/MyDrive/WeedDetection/val (1)/\",\n",
        "    \"/content/drive/MyDrive/WeedDetection/datasets/my_custom_weeds/labels/val/\",\n",
        "    \"/content/drive/MyDrive/WeedDetection/datasets/my_custom_weeds/labels/test/\",\n",
        "]\n",
        "\n",
        "# Get base names of training images\n",
        "image_basenames = [os.path.splitext(os.path.basename(f))[0] for f in glob(train_img_dir + \"*.jpg\")]\n",
        "print(f\"📷 Found {len(image_basenames)} training images.\")\n",
        "\n",
        "# Search for matching label files in each directory\n",
        "copied = 0\n",
        "for search_dir in search_dirs:\n",
        "    label_files = glob(search_dir + \"*.txt\")\n",
        "    for label_path in label_files:\n",
        "        label_name = os.path.splitext(os.path.basename(label_path))[0]\n",
        "        if label_name in image_basenames:\n",
        "            shutil.copy(label_path, os.path.join(label_target_dir, os.path.basename(label_path)))\n",
        "            copied += 1\n",
        "\n",
        "print(f\"✅ Copied {copied} matching label files to labels/train/\")"
      ],
      "metadata": {
        "id": "yFfLba_PbM5U"
      },
      "execution_count": null,
      "outputs": []
    },
    {
      "cell_type": "code",
      "source": [
        "!python train.py --img 640 --batch 16 --epochs 100 \\\n",
        "--data /content/drive/MyDrive/WeedDetection/weed.yaml \\\n",
        "--weights yolov5s.pt --project runs/train --name weed-detector"
      ],
      "metadata": {
        "id": "sDBFGHaLblTh"
      },
      "execution_count": null,
      "outputs": []
    },
    {
      "cell_type": "code",
      "source": [
        "%cd /content/yolov5\n",
        "!python train.py --img 640 --batch 16 --epochs 100 \\\n",
        "--data /content/drive/MyDrive/WeedDetection/weed.yaml \\\n",
        "--weights yolov5s.pt --project runs/train --name weed-detector\n"
      ],
      "metadata": {
        "id": "AWFx_AwVcFAh"
      },
      "execution_count": null,
      "outputs": []
    },
    {
      "cell_type": "code",
      "source": [
        "%cd /content\n",
        "!git clone https://github.com/ultralytics/yolov5.git\n"
      ],
      "metadata": {
        "id": "17iLFw6ydCJ2"
      },
      "execution_count": null,
      "outputs": []
    },
    {
      "cell_type": "code",
      "source": [
        "%cd yolov5\n",
        "!pip install -r requirements.txt\n"
      ],
      "metadata": {
        "id": "-ynDC3zadFng"
      },
      "execution_count": null,
      "outputs": []
    },
    {
      "cell_type": "code",
      "source": [
        "!python train.py --img 640 --batch 16 --epochs 50 \\\n",
        "--data /content/drive/MyDrive/WeedDetection/weed.yaml \\\n",
        "--weights yolov5s.pt --project runs/train --name weed-detector\n"
      ],
      "metadata": {
        "id": "Ax399UnHdPrv"
      },
      "execution_count": null,
      "outputs": []
    },
    {
      "cell_type": "code",
      "source": [
        "!mkdir -p /content/drive/MyDrive/WeedDetection/datasets/my_custom_weeds/images/val\n",
        "!mkdir -p /content/drive/MyDrive/WeedDetection/datasets/my_custom_weeds/labels/val\n",
        "!cp /content/drive/MyDrive/WeedDetection/datasets/my_custom_weeds/images/train/*.jpg \\\n",
        "    /content/drive/MyDrive/WeedDetection/datasets/my_custom_weeds/images/val/\n",
        "!cp /content/drive/MyDrive/WeedDetection/datasets/my_custom_weeds/labels/train/*.txt \\\n",
        "    /content/drive/MyDrive/WeedDetection/datasets/my_custom_weeds/labels/val/\n"
      ],
      "metadata": {
        "id": "Ig5PPT_6gTVp"
      },
      "execution_count": null,
      "outputs": []
    },
    {
      "cell_type": "code",
      "source": [
        "%cd /content/yolov5\n",
        "\n",
        "!python train.py --img 640 --batch 16 --epochs 50 \\\n",
        "--data /content/drive/MyDrive/WeedDetection/weed.yaml \\\n",
        "--weights yolov5s.pt --project runs/train --name weed-detector\n"
      ],
      "metadata": {
        "id": "OlBfppXXgnWz"
      },
      "execution_count": null,
      "outputs": []
    },
    {
      "cell_type": "code",
      "source": [
        "!python detect.py \\\n",
        "--weights /content/yolov5/runs/train/weed-detector/weights/best.pt \\\n",
        "--source /content/drive/MyDrive/WeedDetection/test \\\n",
        "--project /content/drive/MyDrive/WeedDetection/results \\\n",
        "--name test_results \\\n",
        "--save-txt --save-conf --exist-ok"
      ],
      "metadata": {
        "id": "yrf_0GHEvb4l"
      },
      "execution_count": null,
      "outputs": []
    },
    {
      "cell_type": "code",
      "source": [
        "!python detect.py \\\n",
        "--weights /content/yolov5/runs/train/weed-detector2/weights/best.pt \\\n",
        "--img 640 \\\n",
        "--conf 0.25 \\\n",
        "--source /content/drive/MyDrive/WeedDetection/test \\\n",
        "--save-txt \\\n",
        "--save-conf \\\n",
        "--project /content/drive/MyDrive/WeedDetection/results \\\n",
        "--name test_results \\\n",
        "--exist-ok\n"
      ],
      "metadata": {
        "id": "J4S2tYnkfgvX"
      },
      "execution_count": null,
      "outputs": []
    },
    {
      "cell_type": "code",
      "source": [
        "%cd /content/yolov5\n"
      ],
      "metadata": {
        "id": "kRe3KIw9fqsn"
      },
      "execution_count": null,
      "outputs": []
    },
    {
      "cell_type": "code",
      "source": [
        "%cd /content\n",
        "!git clone https://github.com/ultralytics/yolov5.git\n",
        "%cd yolov5\n"
      ],
      "metadata": {
        "id": "TuSU7Zpff1kl"
      },
      "execution_count": null,
      "outputs": []
    },
    {
      "cell_type": "code",
      "source": [
        "!python detect.py \\\n",
        "--weights runs/train/weed-detector2/weights/best.pt \\\n",
        "--img 640 \\\n",
        "--conf 0.25 \\\n",
        "--source /content/drive/MyDrive/WeedDetection/test \\\n",
        "--save-txt \\\n",
        "--save-conf \\\n",
        "--project /content/drive/MyDrive/WeedDetection/results \\\n",
        "--name test_results \\\n",
        "--exist-ok\n"
      ],
      "metadata": {
        "id": "LZdyqSuYf9ek"
      },
      "execution_count": null,
      "outputs": []
    },
    {
      "cell_type": "code",
      "source": [
        "!pip install -r requirements.txt\n"
      ],
      "metadata": {
        "id": "P-fjYvUggBim"
      },
      "execution_count": null,
      "outputs": []
    },
    {
      "cell_type": "code",
      "source": [
        "!python detect.py \\\n",
        "--weights runs/train/weed-detector2/weights/best.pt \\\n",
        "--img 640 \\\n",
        "--conf 0.25 \\\n",
        "--source /content/drive/MyDrive/WeedDetection/test \\\n",
        "--save-txt \\\n",
        "--save-conf \\\n",
        "--project /content/drive/MyDrive/WeedDetection/results \\\n",
        "--name test_results \\\n",
        "--exist-ok\n"
      ],
      "metadata": {
        "id": "Xn4KH47JgPdm"
      },
      "execution_count": null,
      "outputs": []
    },
    {
      "cell_type": "code",
      "source": [
        "!ls /content/yolov5/runs/train/\n"
      ],
      "metadata": {
        "id": "CqljbS6wgxQO"
      },
      "execution_count": null,
      "outputs": []
    },
    {
      "cell_type": "code",
      "source": [
        "!python detect.py \\\n",
        "--weights /content/drive/MyDrive/WeedDetection/best.pt \\\n",
        "--img 640 \\\n",
        "--conf 0.25 \\\n",
        "--source /content/drive/MyDrive/WeedDetection/test \\\n",
        "--save-txt \\\n",
        "--save-conf \\\n",
        "--project /content/drive/MyDrive/WeedDetection/results \\\n",
        "--name test_results \\\n",
        "--exist-ok\n"
      ],
      "metadata": {
        "id": "863NoMrUmclS"
      },
      "execution_count": null,
      "outputs": []
    },
    {
      "cell_type": "code",
      "source": [
        "%cd /content/yolov5\n"
      ],
      "metadata": {
        "id": "-VWscf34mo4x"
      },
      "execution_count": null,
      "outputs": []
    },
    {
      "cell_type": "code",
      "source": [
        "%cd /content\n",
        "!git clone https://github.com/ultralytics/yolov5.git\n",
        "%cd yolov5\n",
        "!pip install -r requirements.txt\n",
        "\n"
      ],
      "metadata": {
        "id": "EPEtwO7Vm1rO"
      },
      "execution_count": null,
      "outputs": []
    },
    {
      "cell_type": "code",
      "source": [
        "!python detect.py \\\n",
        "--weights /content/drive/MyDrive/WeedDetection/best.pt \\\n",
        "--img 640 \\\n",
        "--conf 0.25 \\\n",
        "--source /content/drive/MyDrive/WeedDetection/test \\\n",
        "--save-txt \\\n",
        "--save-conf \\\n",
        "--project /content/drive/MyDrive/WeedDetection/results \\\n",
        "--name test_results \\\n",
        "--exist-ok\n"
      ],
      "metadata": {
        "id": "FN-dqPdXnD-o"
      },
      "execution_count": null,
      "outputs": []
    },
    {
      "cell_type": "code",
      "source": [
        "!find /content/drive/MyDrive/WeedDetection -name best.pt\n"
      ],
      "metadata": {
        "id": "1Di16KeBnyoL"
      },
      "execution_count": null,
      "outputs": []
    },
    {
      "cell_type": "code",
      "source": [
        "!rm -rf /content/drive  # force remove the existing directory\n",
        "from google.colab import drive\n",
        "drive.mount('/content/drive')\n"
      ],
      "metadata": {
        "id": "7xgUD4Y5opF_"
      },
      "execution_count": null,
      "outputs": []
    },
    {
      "cell_type": "code",
      "source": [
        "!python detect.py \\\n",
        "--weights /content/drive/MyDrive/WeedDetection/best.pt \\\n",
        "--source /content/drive/MyDrive/WeedDetection/datasets/my_custom_weeds/images/test \\\n",
        "--project /content/drive/MyDrive/WeedDetection/results \\\n",
        "--name test_results \\\n",
        "--save-txt --save-conf --exist-ok\n"
      ],
      "metadata": {
        "id": "VxufDiUapnFQ"
      },
      "execution_count": null,
      "outputs": []
    },
    {
      "cell_type": "code",
      "source": [
        "from google.colab import files\n",
        "uploaded = files.upload()\n"
      ],
      "metadata": {
        "id": "uSK_GICMVRTC"
      },
      "execution_count": null,
      "outputs": []
    },
    {
      "cell_type": "code",
      "source": [
        "!python detect.py \\\n",
        "--weights runs/train/weed-detector2/weights/best.pt \\\n",
        "--img 640 \\\n",
        "--conf 0.25 \\\n",
        "--source my_weed_photo.jpg \\\n",
        "--save-txt \\\n",
        "--save-conf \\\n",
        "--project runs/detect \\\n",
        "--name custom_test \\\n",
        "--exist-ok\n"
      ],
      "metadata": {
        "id": "r5U_kdAcVfNA"
      },
      "execution_count": null,
      "outputs": []
    },
    {
      "cell_type": "code",
      "source": [
        "!git clone https://github.com/ultralytics/yolov5.git\n",
        "%cd yolov5\n",
        "!pip install -r requirements.txt\n"
      ],
      "metadata": {
        "id": "Q4a7PIgmWJTd"
      },
      "execution_count": null,
      "outputs": []
    },
    {
      "cell_type": "code",
      "source": [
        "from google.colab import drive\n",
        "drive.mount('/content/drive', force_remount=True)\n"
      ],
      "metadata": {
        "id": "6cCMiUzBWO7d"
      },
      "execution_count": null,
      "outputs": []
    },
    {
      "cell_type": "code",
      "source": [
        "from google.colab import files\n",
        "uploaded = files.upload()\n"
      ],
      "metadata": {
        "id": "KwMqzTJPW_pG"
      },
      "execution_count": null,
      "outputs": []
    },
    {
      "cell_type": "code",
      "source": [
        "!python detect.py \\\n",
        "--weights runs/train/weed-detector2/weights/best.pt \\\n",
        "--img 640 \\\n",
        "--conf 0.25 \\\n",
        "--source my_weed_photo.jpg \\\n",
        "--save-txt \\\n",
        "--save-conf \\\n",
        "--project runs/detect \\\n",
        "--name custom_test \\\n",
        "--exist-ok\n"
      ],
      "metadata": {
        "id": "vgOAIrh-XEwu"
      },
      "execution_count": null,
      "outputs": []
    },
    {
      "cell_type": "code",
      "source": [
        "!python detect.py \\\n",
        "--weights /content/drive/MyDrive/WeedDetection/best.pt \\\n",
        "--img 640 \\\n",
        "--conf 0.25 \\\n",
        "--source my_weed_photo.jpg \\\n",
        "--project runs/detect \\\n",
        "--name custom_test \\\n",
        "--save-txt \\\n",
        "--save-conf \\\n",
        "--exist-ok\n"
      ],
      "metadata": {
        "id": "R4Mz3gekXnBv"
      },
      "execution_count": null,
      "outputs": []
    },
    {
      "cell_type": "code",
      "source": [
        "from google.colab import files\n",
        "uploaded = files.upload()\n"
      ],
      "metadata": {
        "id": "_1sYovY_XzCt"
      },
      "execution_count": null,
      "outputs": []
    },
    {
      "cell_type": "code",
      "source": [
        "!ls my_weed_photo.jpg\n"
      ],
      "metadata": {
        "id": "zK2ZeBtAX4Ph"
      },
      "execution_count": null,
      "outputs": []
    },
    {
      "cell_type": "code",
      "source": [
        "from google.colab import files\n",
        "uploaded = files.upload()\n"
      ],
      "metadata": {
        "id": "KeG7qYlMYAQe"
      },
      "execution_count": null,
      "outputs": []
    },
    {
      "cell_type": "code",
      "source": [
        "!ls\n"
      ],
      "metadata": {
        "id": "hyTiNDg3YFOr"
      },
      "execution_count": null,
      "outputs": []
    },
    {
      "cell_type": "code",
      "source": [
        "!python detect.py \\\n",
        "--weights /content/drive/MyDrive/WeedDetection/best.pt \\\n",
        "--img 640 \\\n",
        "--conf 0.25 \\\n",
        "--source my_weed_photo.png \\\n",
        "--project runs/detect \\\n",
        "--name custom_test \\\n",
        "--save-txt \\\n",
        "--save-conf \\\n",
        "--exist-ok\n"
      ],
      "metadata": {
        "id": "TGiI6LhzYNGD"
      },
      "execution_count": null,
      "outputs": []
    },
    {
      "cell_type": "code",
      "source": [
        "from IPython.display import Image\n",
        "Image(filename='runs/detect/custom_test/my_weed_photo.png')\n"
      ],
      "metadata": {
        "id": "M5I-IOaIYRFR"
      },
      "execution_count": null,
      "outputs": []
    },
    {
      "cell_type": "code",
      "source": [
        "%cd /content\n",
        "!git clone https://github.com/ultralytics/yolov5.git\n",
        "%cd yolov5\n"
      ],
      "metadata": {
        "id": "puPsl9CaFEIE"
      },
      "execution_count": null,
      "outputs": []
    },
    {
      "cell_type": "code",
      "source": [
        "!rm -rf /content/drive  # force remove the existing directory\n",
        "from google.colab import drive\n",
        "drive.mount('/content/drive')\n"
      ],
      "metadata": {
        "id": "PwdQyWsxFGG8"
      },
      "execution_count": null,
      "outputs": []
    },
    {
      "cell_type": "code",
      "source": [
        "!python detect.py \\\n",
        "--weights /content/drive/MyDrive/WeedDetection/best.pt \\\n",
        "--source /content/drive/MyDrive/WeedDetection/datasets/my_custom_weeds/images/test \\\n",
        "--project /content/drive/MyDrive/WeedDetection/results \\\n",
        "--name test_results \\\n",
        "--save-txt --save-conf --exist-ok\n"
      ],
      "metadata": {
        "id": "B9qR8u6EFb0l"
      },
      "execution_count": null,
      "outputs": []
    },
    {
      "cell_type": "code",
      "source": [
        "pip install -r requirements.txt"
      ],
      "metadata": {
        "id": "EYs2QBmqFeyp"
      },
      "execution_count": null,
      "outputs": []
    },
    {
      "cell_type": "code",
      "source": [
        "!python detect.py \\\n",
        "--weights /content/drive/MyDrive/WeedDetection/best.pt \\\n",
        "--source /content/drive/MyDrive/WeedDetection/datasets/my_custom_weeds/images/test \\\n",
        "--project /content/drive/MyDrive/WeedDetection/results \\\n",
        "--name test_results \\\n",
        "--save-txt --save-conf --exist-ok\n"
      ],
      "metadata": {
        "id": "96NJYsx5F0rW"
      },
      "execution_count": null,
      "outputs": []
    },
    {
      "cell_type": "code",
      "source": [
        "import glob\n",
        "from IPython.display import Image, display\n",
        "\n",
        "# Path to YOLOv5 detection results\n",
        "result_path = '/content/drive/MyDrive/WeedDetection/results/test_results/*.jpg'\n",
        "\n",
        "# Get all image paths\n",
        "result_images = glob.glob(result_path)\n",
        "\n",
        "# Show all detected images\n",
        "for img_path in result_images:\n",
        "    display(Image(filename=img_path))"
      ],
      "metadata": {
        "id": "_KxPQBI0G5um"
      },
      "execution_count": null,
      "outputs": []
    }
  ]
}